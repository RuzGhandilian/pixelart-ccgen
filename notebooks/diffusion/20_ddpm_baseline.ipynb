{
  "cells": [
    {
      "cell_type": "markdown",
      "metadata": {},
      "source": "# 20 \u2014 DDPM Baseline"
    },
    {
      "cell_type": "code",
      "metadata": {},
      "execution_count": null,
      "outputs": [],
      "source": "from src.diffusion.train import train_ddpm\n# train_ddpm('configs/ddpm.yaml')"
    }
  ],
  "metadata": {
    "kernelspec": {
      "display_name": "Python 3",
      "language": "python",
      "name": "python3"
    },
    "language_info": {
      "name": "python"
    }
  },
  "nbformat": 4,
  "nbformat_minor": 5
}