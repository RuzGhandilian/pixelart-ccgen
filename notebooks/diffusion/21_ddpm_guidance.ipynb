{
  "cells": [
    {
      "cell_type": "markdown",
      "metadata": {},
      "source": "# 21 \u2014 DDPM Guidance & Sampling"
    },
    {
      "cell_type": "code",
      "metadata": {},
      "execution_count": null,
      "outputs": [],
      "source": "from src.diffusion.sample import sample_ddpm\n# sample_ddpm('configs/ddpm.yaml', class_id=0, n=16)"
    }
  ],
  "metadata": {
    "kernelspec": {
      "display_name": "Python 3",
      "language": "python",
      "name": "python3"
    },
    "language_info": {
      "name": "python"
    }
  },
  "nbformat": 4,
  "nbformat_minor": 5
}