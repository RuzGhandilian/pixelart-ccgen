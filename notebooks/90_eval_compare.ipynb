{
  "cells": [
    {
      "cell_type": "markdown",
      "metadata": {},
      "source": "# 90 \u2014 Evaluation & Comparison"
    },
    {
      "cell_type": "code",
      "metadata": {},
      "execution_count": null,
      "outputs": [],
      "source": "from src.eval.fid_kid import compute_fid_kid\nfrom src.eval.palette_kl import compute_palette_kl\nfrom src.eval.edge_acuity import compute_edge_acuity\nfrom src.eval.class_acc import compute_class_acc\n# print('FID/KID:', compute_fid_kid('data/clean_16x16','outputs/samples'))"
    }
  ],
  "metadata": {
    "kernelspec": {
      "display_name": "Python 3",
      "language": "python",
      "name": "python3"
    },
    "language_info": {
      "name": "python"
    }
  },
  "nbformat": 4,
  "nbformat_minor": 5
}