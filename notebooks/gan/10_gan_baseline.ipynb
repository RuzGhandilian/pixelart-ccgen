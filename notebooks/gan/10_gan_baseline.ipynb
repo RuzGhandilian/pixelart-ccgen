{
  "cells": [
    {
      "cell_type": "markdown",
      "metadata": {},
      "source": "# 10 \u2014 GAN Baseline"
    },
    {
      "cell_type": "code",
      "metadata": {},
      "execution_count": null,
      "outputs": [],
      "source": "from src.gan.train import train_gan\n# train_gan('configs/gan.yaml')"
    }
  ],
  "metadata": {
    "kernelspec": {
      "display_name": "Python 3",
      "language": "python",
      "name": "python3"
    },
    "language_info": {
      "name": "python"
    }
  },
  "nbformat": 4,
  "nbformat_minor": 5
}